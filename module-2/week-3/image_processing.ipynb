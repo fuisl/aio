{
  "nbformat": 4,
  "nbformat_minor": 0,
  "metadata": {
    "colab": {
      "provenance": [],
      "authorship_tag": "ABX9TyPa6sIJN37YUu7uKUMK5OG6",
      "include_colab_link": true
    },
    "kernelspec": {
      "name": "python3",
      "display_name": "Python 3"
    },
    "language_info": {
      "name": "python"
    }
  },
  "cells": [
    {
      "cell_type": "markdown",
      "metadata": {
        "id": "view-in-github",
        "colab_type": "text"
      },
      "source": [
        "<a href=\"https://colab.research.google.com/github/fuisl/aio/blob/feature%2Fimage-processing/image_processing.ipynb\" target=\"_parent\"><img src=\"https://colab.research.google.com/assets/colab-badge.svg\" alt=\"Open In Colab\"/></a>"
      ]
    },
    {
      "cell_type": "code",
      "execution_count": 9,
      "metadata": {
        "colab": {
          "base_uri": "https://localhost:8080/"
        },
        "id": "x-t5LmlrJobJ",
        "outputId": "47e6b41f-7f10-4e55-c951-5e5a67ec5f52"
      },
      "outputs": [
        {
          "output_type": "execute_result",
          "data": {
            "text/plain": [
              "102.5"
            ]
          },
          "metadata": {},
          "execution_count": 9
        }
      ],
      "source": [
        "import matplotlib.image as mpimg\n",
        "import numpy as np\n",
        "\n",
        "def gray_lightness(img):\n",
        "    img_gray = img.copy()\n",
        "    img_gray = (np.max(img, axis=-1) + np.min(img, axis=-1))\n",
        "    return img_gray\n",
        "\n",
        "img = mpimg.imread('/content/dog.jpeg')\n",
        "gray_img_01 = gray(img)\n",
        "gray_img_01[0, 0]"
      ]
    },
    {
      "cell_type": "code",
      "source": [
        "def gray_average(img):\n",
        "    img_gray = img.copy()\n",
        "    img_gray = np.mean(img, axis=-1)\n",
        "    return img_gray\n",
        "\n",
        "gray_img_02 = gray_average(img)\n",
        "gray_img_02[0, 0]"
      ],
      "metadata": {
        "colab": {
          "base_uri": "https://localhost:8080/"
        },
        "id": "xnPe-VDHLPYO",
        "outputId": "4c8df78a-02c0-431e-93ef-dea5ee7c391a"
      },
      "execution_count": 11,
      "outputs": [
        {
          "output_type": "execute_result",
          "data": {
            "text/plain": [
              "107.66666666666667"
            ]
          },
          "metadata": {},
          "execution_count": 11
        }
      ]
    },
    {
      "cell_type": "code",
      "source": [
        "def gray_luminosity(img):\n",
        "    img_gray = img.copy()\n",
        "    img_gray = np.dot(img[..., :3], [0.21, 0.72, 0.07])\n",
        "    return img_gray\n",
        "\n",
        "gray_img_03 = gray_luminosity(img)\n",
        "gray_img_03[0, 0]"
      ],
      "metadata": {
        "colab": {
          "base_uri": "https://localhost:8080/"
        },
        "id": "D8FW1WKdLiOh",
        "outputId": "b365d853-3c97-4993-88cd-92a9676411e0"
      },
      "execution_count": 13,
      "outputs": [
        {
          "output_type": "execute_result",
          "data": {
            "text/plain": [
              "126.22999999999999"
            ]
          },
          "metadata": {},
          "execution_count": 13
        }
      ]
    }
  ]
}