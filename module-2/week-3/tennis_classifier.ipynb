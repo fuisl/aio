{
 "cells": [
  {
   "cell_type": "code",
   "execution_count": 28,
   "metadata": {},
   "outputs": [],
   "source": [
    "import numpy as np"
   ]
  },
  {
   "cell_type": "code",
   "execution_count": 29,
   "metadata": {},
   "outputs": [],
   "source": [
    "def create_train_data():\n",
    "    data = [[\"Sunny\", \"Hot\", \"High\", \"Weak\", \"No\"],\n",
    "            [\"Sunny\", \"Hot\", \"High\", \"Strong\", \"No\"],\n",
    "            [\"Overcast\", \"Hot\", \"High\", \"Weak\", \"Yes\"],\n",
    "            [\"Rain\", \"Mild\", \"High\", \"Weak\", \"Yes\"],\n",
    "            [\"Rain\", \"Cool\", \"Normal\", \"Weak\", \"Yes\"],\n",
    "            [\"Rain\", \"Cool\", \"Normal\", \"Strong\", \"No\"],\n",
    "            [\"Overcast\", \"Cool\", \"Normal\", \"Strong\", \"Yes\"],\n",
    "            [\"Overcast\", \"Mild\", \"High\", \"Weak\", \"No\"],\n",
    "            [\"Sunny\", \"Cool\", \"Normal\", \"Weak\", \"Yes\"],\n",
    "            [\"Rain\", \"Mild\", \"Normal\", \"Weak\", \"Yes\"]]\n",
    "    return np.array(data)"
   ]
  },
  {
   "cell_type": "code",
   "execution_count": 30,
   "metadata": {},
   "outputs": [],
   "source": [
    "train_data = create_train_data()"
   ]
  },
  {
   "cell_type": "code",
   "execution_count": 31,
   "metadata": {},
   "outputs": [
    {
     "name": "stdout",
     "output_type": "stream",
     "text": [
      "[0.4 0.6]\n"
     ]
    }
   ],
   "source": [
    "def compute_prior_probability(train_data):\n",
    "    y_unique = [\"No\", \"Yes\"]\n",
    "    prior_prop = np.zeros(len(y_unique))\n",
    "    for i in range(len(y_unique)):\n",
    "        prior_prop[i] = len(train_data[train_data[:, -1] == y_unique[i]]) / len(train_data)\n",
    "    \n",
    "    return prior_prop\n",
    "\n",
    "prior_prop = compute_prior_probability(train_data)\n",
    "print(prior_prop)"
   ]
  },
  {
   "cell_type": "code",
   "execution_count": 32,
   "metadata": {},
   "outputs": [],
   "source": [
    "def compute_conditional_probability(train_data):\n",
    "    y_unique = [\"No\", \"Yes\"]\n",
    "    conditional_prop = []\n",
    "    list_x_name = []\n",
    "    for i in range(0, train_data.shape[1]-1):\n",
    "        x_unique = np.unique(train_data[:, i])\n",
    "        list_x_name.append(x_unique)\n",
    "        for j in range(len(y_unique)):\n",
    "            for k in range(len(x_unique)):\n",
    "                conditional_prop.append(len(train_data[(train_data[:, i] == x_unique[k]) & (train_data[:, -1] == y_unique[j])]) / len(train_data[train_data[:, -1] == y_unique[j]]))\n",
    "\n",
    "    return np.array(conditional_prop), list_x_name\n",
    "\n",
    "conditional_prop, list_x_name = compute_conditional_probability(train_data)"
   ]
  },
  {
   "cell_type": "code",
   "execution_count": 33,
   "metadata": {},
   "outputs": [
    {
     "data": {
      "text/plain": [
       "[array(['Overcast', 'Rain', 'Sunny'], dtype='<U8'),\n",
       " array(['Cool', 'Hot', 'Mild'], dtype='<U8'),\n",
       " array(['High', 'Normal'], dtype='<U8'),\n",
       " array(['Strong', 'Weak'], dtype='<U8')]"
      ]
     },
     "execution_count": 33,
     "metadata": {},
     "output_type": "execute_result"
    }
   ],
   "source": [
    "list_x_name"
   ]
  },
  {
   "cell_type": "code",
   "execution_count": 40,
   "metadata": {},
   "outputs": [
    {
     "name": "stdout",
     "output_type": "stream",
     "text": [
      "0 1 2\n"
     ]
    }
   ],
   "source": [
    "def get_index_from_value(feature_name, list_features):\n",
    "    return np.where(list_features == feature_name)[0][0]\n",
    "\n",
    "_, list_x_name = compute_conditional_probability(train_data)\n",
    "outlook = list_x_name[0]\n",
    "\n",
    "i1 = get_index_from_value(\"Overcast\", outlook)\n",
    "i2 = get_index_from_value(\"Rain\", outlook)\n",
    "i3 = get_index_from_value(\"Sunny\", outlook)\n",
    "\n",
    "print(i1, i2, i3)"
   ]
  },
  {
   "cell_type": "code",
   "execution_count": 43,
   "metadata": {},
   "outputs": [
    {
     "name": "stdout",
     "output_type": "stream",
     "text": [
      "P(Sunny|Yes) =  0.25\n"
     ]
    }
   ],
   "source": [
    "conditional_prop, list_x_name = compute_conditional_probability(train_data)\n",
    "\n",
    "x1 = get_index_from_value(\"Sunny\", list_x_name[0])\n",
    "\n",
    "print(\"P(Sunny|Yes) = \", conditional_prop[0])"
   ]
  }
 ],
 "metadata": {
  "kernelspec": {
   "display_name": "cnn-learn",
   "language": "python",
   "name": "python3"
  },
  "language_info": {
   "codemirror_mode": {
    "name": "ipython",
    "version": 3
   },
   "file_extension": ".py",
   "mimetype": "text/x-python",
   "name": "python",
   "nbconvert_exporter": "python",
   "pygments_lexer": "ipython3",
   "version": "3.11.8"
  }
 },
 "nbformat": 4,
 "nbformat_minor": 2
}
