{
 "cells": [
  {
   "cell_type": "code",
   "execution_count": 1,
   "metadata": {},
   "outputs": [
    {
     "name": "stderr",
     "output_type": "stream",
     "text": [
      "Downloading...\n",
      "From: https://drive.google.com/uc?id=1jh2p2DlaWsDo_vEWIcTrNh3mUuXd-cw6\n",
      "To: e:\\projects\\aio\\module-2\\week-4\\vi_text_retrieval.csv\n",
      "\n",
      "  0%|          | 0.00/201k [00:00<?, ?B/s]\n",
      "100%|██████████| 201k/201k [00:00<00:00, 1.73MB/s]\n",
      "100%|██████████| 201k/201k [00:00<00:00, 1.73MB/s]\n"
     ]
    }
   ],
   "source": [
    "!gdown 1jh2p2DlaWsDo_vEWIcTrNh3mUuXd-cw6"
   ]
  },
  {
   "cell_type": "code",
   "execution_count": 5,
   "metadata": {},
   "outputs": [
    {
     "data": {
      "text/plain": [
       "0.31126580760710637"
      ]
     },
     "execution_count": 5,
     "metadata": {},
     "output_type": "execute_result"
    }
   ],
   "source": [
    "import pandas as pd\n",
    "import numpy as np\n",
    "from sklearn.metrics.pairwise import cosine_similarity\n",
    "from sklearn.feature_extraction.text import TfidfVectorizer\n",
    "\n",
    "vi_data_df = pd.read_csv('vi_text_retrieval.csv')\n",
    "context = vi_data_df['text']\n",
    "context = [doc.lower() for doc in context]\n",
    "\n",
    "tdidf_vectorizer = TfidfVectorizer()\n",
    "context_embeddings = tdidf_vectorizer.fit_transform(context)\n",
    "context_embeddings.toarray()[7, 0]"
   ]
  },
  {
   "cell_type": "code",
   "execution_count": 7,
   "metadata": {},
   "outputs": [
    {
     "name": "stdout",
     "output_type": "stream",
     "text": [
      "Quang Hải giành được chức vô địch U21 quốc gia năm bao nhiêu tuổi\n"
     ]
    },
    {
     "data": {
      "text/plain": [
       "0.6279910475266974"
      ]
     },
     "execution_count": 7,
     "metadata": {},
     "output_type": "execute_result"
    }
   ],
   "source": [
    "def tfidf_search(question, tfidf_vectorizer, top_d=5):\n",
    "    query_embedded = tfidf_vectorizer.transform([question])\n",
    "    cosine_similarities = cosine_similarity(query_embedded, context_embeddings)\n",
    "\n",
    "    res = []\n",
    "    for i in cosine_similarities.argsort()[0][-top_d:][::-1]:\n",
    "        doc_score = {\n",
    "            'id': i,\n",
    "            'cosine_score': cosine_similarities[0][i],\n",
    "        }\n",
    "        res.append(doc_score)\n",
    "    return res\n",
    "\n",
    "question = vi_data_df.iloc[0]['question']\n",
    "print(question)\n",
    "result = tfidf_search(question, tdidf_vectorizer)\n",
    "result[0]['cosine_score']"
   ]
  },
  {
   "cell_type": "code",
   "execution_count": 18,
   "metadata": {},
   "outputs": [
    {
     "name": "stdout",
     "output_type": "stream",
     "text": [
      "Quang Hải giành được chức vô địch U21 quốc gia năm bao nhiêu tuổi\n"
     ]
    },
    {
     "data": {
      "text/plain": [
       "0.2073424647197352"
      ]
     },
     "execution_count": 18,
     "metadata": {},
     "output_type": "execute_result"
    }
   ],
   "source": [
    "def corr_search(question, tdidf_vectorizer, top_d=5):\n",
    "    query_embedded = tdidf_vectorizer.transform([question])\n",
    "    \n",
    "    corr_score = np.zeros(context_embeddings.shape[0])\n",
    "    for i in range(context_embeddings.shape[0]):\n",
    "        corr_score[i] = np.corrcoef(query_embedded.toarray().flatten(), context_embeddings.toarray()[i])[0, 1]\n",
    "\n",
    "    res = []\n",
    "    \n",
    "    for i in corr_score.argsort()[-top_d:][::-1]:\n",
    "        doc_score = {\n",
    "            'id': i,\n",
    "            'corr_score': corr_score[i],\n",
    "        }\n",
    "        res.append(doc_score)\n",
    "    \n",
    "    return res\n",
    "\n",
    "question = vi_data_df.iloc[0]['question']\n",
    "print(question)\n",
    "result = corr_search(question, tdidf_vectorizer)\n",
    "result[1]['corr_score']"
   ]
  }
 ],
 "metadata": {
  "kernelspec": {
   "display_name": "crohme",
   "language": "python",
   "name": "python3"
  },
  "language_info": {
   "codemirror_mode": {
    "name": "ipython",
    "version": 3
   },
   "file_extension": ".py",
   "mimetype": "text/x-python",
   "name": "python",
   "nbconvert_exporter": "python",
   "pygments_lexer": "ipython3",
   "version": "3.11.8"
  }
 },
 "nbformat": 4,
 "nbformat_minor": 2
}
